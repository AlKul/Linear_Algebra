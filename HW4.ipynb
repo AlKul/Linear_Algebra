{
 "cells": [
  {
   "cell_type": "markdown",
   "metadata": {},
   "source": [
    "# Системы линейных уравнений"
   ]
  },
  {
   "cell_type": "markdown",
   "metadata": {},
   "source": [
    "__1.__ Решить систему уравнений методом Гаусса:\n",
    "\n",
    "$$\\begin{cases}\n",
    "x_{1}+x_{2}-x_{3}-2x_{4}=0, \\\\\n",
    "2x_{1}+x_{2}-x_{3}+x_{4}=-2, \\\\\n",
    "x_{1}+x_{2}-3x_{3}+x_{4}=4.\n",
    "\\end{cases}$$"
   ]
  },
  {
   "cell_type": "markdown",
   "metadata": {},
   "source": [
    "### Решение\n",
    "\n"
   ]
  },
  {
   "cell_type": "markdown",
   "metadata": {},
   "source": [
    "$\n",
    "\\begin{pmatrix}\n",
    "\\left.\\begin{matrix}\n",
    "1&1&-1&-2 \\\\\n",
    "2&1&-1&1\\\\\n",
    "1&1&-3&1 \n",
    "\\end{matrix}\\right|\n",
    "\\begin{matrix}\n",
    "0\\\\\n",
    "-1\\\\\n",
    "4\n",
    "\\end{matrix}\n",
    "\\end{pmatrix}\n",
    "\\rightarrow\n",
    "\\begin{pmatrix}\n",
    "\\left.\\begin{matrix}\n",
    "1&1&-1&-2 \\\\\n",
    "1&0&0&3\\\\\n",
    "0&0&-2&3 \n",
    "\\end{matrix}\\right|\n",
    "\\begin{matrix}\n",
    "0\\\\\n",
    "-1\\\\\n",
    "4\n",
    "\\end{matrix}\n",
    "\\end{pmatrix}\n",
    "\\rightarrow\n",
    "$ "
   ]
  },
  {
   "cell_type": "markdown",
   "metadata": {},
   "source": [
    "$\\rightarrow\n",
    "\\begin{pmatrix}\n",
    "\\left.\\begin{matrix}\n",
    "1&1&-1&-2 \\\\\n",
    "1&0&0&3\\\\\n",
    "0&0&-2&0 \n",
    "\\end{matrix}\\right|\n",
    "\\begin{matrix}\n",
    "0\\\\\n",
    "-1\\\\\n",
    "5\n",
    "\\end{matrix}\n",
    "\\end{pmatrix}\n",
    "\\rightarrow\n",
    "\\begin{pmatrix}\n",
    "\\left.\\begin{matrix}\n",
    "1&1&-1&0 \\\\\n",
    "1&0&0&1\\\\\n",
    "0&0&1&0 \n",
    "\\end{matrix}\\right|\n",
    "\\begin{matrix}\n",
    "-\\frac{2}{3}\\\\\n",
    "-\\frac{1}{3}\\\\\n",
    "-\\frac{5}{2}\n",
    "\\end{matrix}\n",
    "\\end{pmatrix}\n",
    "\\rightarrow$ "
   ]
  },
  {
   "cell_type": "markdown",
   "metadata": {},
   "source": [
    "$\\rightarrow\n",
    "\\begin{pmatrix}\n",
    "\\left.\\begin{matrix}\n",
    "0&1&0&-1 \\\\\n",
    "1&0&0&1\\\\\n",
    "0&0&1&0 \n",
    "\\end{matrix}\\right|\n",
    "\\begin{matrix}\n",
    "-\\frac{1}{3}-\\frac{5}{2}\\\\\n",
    "-\\frac{1}{3}\\\\\n",
    "-\\frac{5}{2}\n",
    "\\end{matrix}\n",
    "\\end{pmatrix}\n",
    "\\rightarrow\n",
    "\\begin{pmatrix}\n",
    "\\left.\\begin{matrix}\n",
    "1&0&0&1\\\\\n",
    "0&1&0&-1 \\\\\n",
    "0&0&1&0 \n",
    "\\end{matrix}\\right|\n",
    "\\begin{matrix}\n",
    "-\\frac{1}{3}\\\\\n",
    "-\\frac{1}{3}-\\frac{5}{2}\\\\\n",
    "-\\frac{5}{2}\n",
    "\\end{matrix}\n",
    "\\end{pmatrix}\n",
    "$ "
   ]
  },
  {
   "cell_type": "markdown",
   "metadata": {},
   "source": [
    "$x_3 = -\\frac{5}{2}\\\\\n",
    "x_4 = C\\\\\n",
    "x_2  = -\\frac{17}{6} + C\\\\\n",
    "x_1  = -\\frac{1}{3} - C\n",
    "$"
   ]
  },
  {
   "cell_type": "markdown",
   "metadata": {},
   "source": [
    "$\n",
    "(x_1, x_2, x_3, x_4) = (-\\frac{1}{3}, -\\frac{17}{6}, -\\frac{5}{2}) + C\\cdot(-1, 1, 0, 1)\n",
    "$"
   ]
  },
  {
   "cell_type": "markdown",
   "metadata": {},
   "source": [
    "---\n",
    "__2.__ Проверить на совместность и выяснить, сколько решений будет иметь система линейных уравнений:\n",
    "\n",
    "   а) $\\begin{cases}\n",
    "3x_{1}-x_{2}+x_{3}=4, \\\\\n",
    "2x_{1}-5x_{2}-3x_{3}=-17, \\\\\n",
    "x_{1}+x_{2}-x_{3}=0;\n",
    "\\end{cases}$\n"
   ]
  },
  {
   "cell_type": "markdown",
   "metadata": {},
   "source": [
    "### Решение\n",
    "\n"
   ]
  },
  {
   "cell_type": "markdown",
   "metadata": {},
   "source": [
    "$\n",
    "\\begin{pmatrix}\n",
    "\\left.\\begin{matrix}\n",
    "3&-1&1 \\\\\n",
    "2&-5&-3\\\\\n",
    "1&1&-1\n",
    "\\end{matrix}\\right|\n",
    "\\begin{matrix}\n",
    "4\\\\\n",
    "-17\\\\\n",
    "0\n",
    "\\end{matrix}\n",
    "\\end{pmatrix}\n",
    "\\rightarrow\n",
    "\\begin{pmatrix}\n",
    "\\left.\\begin{matrix}\n",
    "4&0&0 \\\\\n",
    "0&-7&-1\\\\\n",
    "1&1&-1\n",
    "\\end{matrix}\\right|\n",
    "\\begin{matrix}\n",
    "4\\\\\n",
    "-17\\\\\n",
    "0\n",
    "\\end{matrix}\n",
    "\\end{pmatrix}\n",
    "\\rightarrow\n",
    "$ "
   ]
  },
  {
   "cell_type": "markdown",
   "metadata": {},
   "source": [
    "$\n",
    "\\rightarrow\n",
    "\\begin{pmatrix}\n",
    "\\left.\\begin{matrix}\n",
    "1&0&0 \\\\\n",
    "0&-7&-1\\\\\n",
    "0&1&-1\n",
    "\\end{matrix}\\right|\n",
    "\\begin{matrix}\n",
    "1\\\\\n",
    "-17\\\\\n",
    "-1\n",
    "\\end{matrix}\n",
    "\\end{pmatrix}\n",
    "\\rightarrow\n",
    "\\begin{pmatrix}\n",
    "\\left.\\begin{matrix}\n",
    "1&0&0 \\\\\n",
    "0&-8&0\\\\\n",
    "0&1&-1\n",
    "\\end{matrix}\\right|\n",
    "\\begin{matrix}\n",
    "1\\\\\n",
    "-16\\\\\n",
    "-1\n",
    "\\end{matrix}\n",
    "\\end{pmatrix}\n",
    "\\rightarrow\n",
    "$ "
   ]
  },
  {
   "cell_type": "markdown",
   "metadata": {},
   "source": [
    "$\n",
    "\\rightarrow\n",
    "\\begin{pmatrix}\n",
    "\\left.\\begin{matrix}\n",
    "1&0&0 \\\\\n",
    "0&1&0\\\\\n",
    "0&1&-1\n",
    "\\end{matrix}\\right|\n",
    "\\begin{matrix}\n",
    "1\\\\\n",
    "2\\\\\n",
    "-1\n",
    "\\end{matrix}\n",
    "\\end{pmatrix}\n",
    "\\rightarrow\n",
    "\\begin{pmatrix}\n",
    "\\left.\\begin{matrix}\n",
    "1&0&0 \\\\\n",
    "0&1&0\\\\\n",
    "0&0&1\n",
    "\\end{matrix}\\right|\n",
    "\\begin{matrix}\n",
    "1\\\\\n",
    "2\\\\\n",
    "3\n",
    "\\end{matrix}\n",
    "\\end{pmatrix}\n",
    "\\rightarrow\n",
    "$ "
   ]
  },
  {
   "cell_type": "markdown",
   "metadata": {},
   "source": [
    "$\n",
    "x_3 = 3\\\\\n",
    "x_2 = 2\\\\\n",
    "x_1 = 1\n",
    "$"
   ]
  },
  {
   "cell_type": "markdown",
   "metadata": {},
   "source": [
    "__Совместна и определена__\n",
    "\n",
    "Проверим"
   ]
  },
  {
   "cell_type": "code",
   "execution_count": 5,
   "metadata": {},
   "outputs": [],
   "source": [
    "import numpy as np"
   ]
  },
  {
   "cell_type": "code",
   "execution_count": 4,
   "metadata": {},
   "outputs": [
    {
     "data": {
      "text/plain": [
       "32.0"
      ]
     },
     "execution_count": 4,
     "metadata": {},
     "output_type": "execute_result"
    }
   ],
   "source": [
    "a = np.array([[3, -1, 1], [2, -5, -3], [1, 1, -1]])\n",
    "np.linalg.det(a)"
   ]
  },
  {
   "cell_type": "markdown",
   "metadata": {},
   "source": [
    "Матрица к-тов невырождена, число неизвестных = числу строк. Все верно."
   ]
  },
  {
   "cell_type": "markdown",
   "metadata": {},
   "source": [
    "б) $\\begin{cases}\n",
    "2x_{1}-4x_{2}+6x_{3}=1, \\\\\n",
    "x_{1}-2x_{2}+3x_{3}=-2, \\\\\n",
    "3x_{1}-6x_{2}+9x_{3}=5;\n",
    "\\end{cases}$"
   ]
  },
  {
   "cell_type": "markdown",
   "metadata": {},
   "source": [
    "$\n",
    "\\begin{pmatrix}\n",
    "\\left.\\begin{matrix}\n",
    "2&-4&6 \\\\\n",
    "1&-2&3\\\\\n",
    "3&-6&9\n",
    "\\end{matrix}\\right|\n",
    "\\begin{matrix}\n",
    "1\\\\\n",
    "-2\\\\\n",
    "5\n",
    "\\end{matrix}\n",
    "\\end{pmatrix}\n",
    "\\rightarrow\n",
    "\\begin{pmatrix}\n",
    "\\left.\\begin{matrix}\n",
    "0&0&0 \\\\\n",
    "0&-7&-1\\\\\n",
    "0&0&0\n",
    "\\end{matrix}\\right|\n",
    "\\begin{matrix}\n",
    "5\\\\\n",
    "-2\\\\\n",
    "2\n",
    "\\end{matrix}\n",
    "\\end{pmatrix}\n",
    "\\rightarrow\n",
    "$ "
   ]
  },
  {
   "cell_type": "markdown",
   "metadata": {},
   "source": [
    "__Несовместна__"
   ]
  },
  {
   "cell_type": "markdown",
   "metadata": {},
   "source": [
    " в) $\\begin{cases}\n",
    "x_{1}+2x_{2}+5x_{3}=4, \\\\\n",
    "3x_{1}+x_{2}-8x_{3}=-2. \n",
    "\\end{cases}$"
   ]
  },
  {
   "cell_type": "markdown",
   "metadata": {},
   "source": [
    "$\n",
    "\\begin{pmatrix}\n",
    "\\left.\\begin{matrix}\n",
    "1&2&5 \\\\\n",
    "3&1&-8\n",
    "\\end{matrix}\\right|\n",
    "\\begin{matrix}\n",
    "4\\\\\n",
    "-2\n",
    "\\end{matrix}\n",
    "\\end{pmatrix}\n",
    "$ "
   ]
  },
  {
   "cell_type": "markdown",
   "metadata": {},
   "source": [
    "Коэффициенты независимы линейно, __система совместна, но не определена__"
   ]
  },
  {
   "cell_type": "markdown",
   "metadata": {},
   "source": [
    "---\n",
    "__3.__ Проверить на совместность и выяснить, сколько решений будет иметь система линейных уравнений, заданная расширенной матрицей\n",
    "\n",
    "$$\\tilde{A}=\\begin{pmatrix}\n",
    "\\left.\\begin{matrix}\n",
    "1 & 3 & -2 & 4\\\\ \n",
    "0 & 5 & 0 & 1\\\\ \n",
    "0 & 0 & 3 & 0\\\\ \n",
    "0 & 0 & 0 & 2\n",
    "\\end{matrix}\\right|\n",
    "\\begin{matrix}\n",
    "3\\\\ \n",
    "2\\\\\n",
    "4\\\\\n",
    "1\n",
    "\\end{matrix}\n",
    "\\end{pmatrix}.$$\n",
    "\n"
   ]
  },
  {
   "cell_type": "markdown",
   "metadata": {},
   "source": [
    "$\\tilde{A}=\\begin{pmatrix}\n",
    "\\left.\\begin{matrix}\n",
    "1 & 3 & -2 & 4\\\\ \n",
    "0 & 5 & 0 & 1\\\\ \n",
    "0 & 0 & 3 & 0\\\\ \n",
    "0 & 0 & 0 & 2\n",
    "\\end{matrix}\\right|\n",
    "\\begin{matrix}\n",
    "3\\\\ \n",
    "2\\\\\n",
    "4\\\\\n",
    "1\n",
    "\\end{matrix}\n",
    "\\end{pmatrix}$"
   ]
  },
  {
   "cell_type": "markdown",
   "metadata": {},
   "source": [
    "Число переменных = числу строк. Система коэффициентов невырождена. Все __соместно, и все определено__."
   ]
  },
  {
   "cell_type": "markdown",
   "metadata": {},
   "source": [
    "---\n",
    "__4.__ Дана система линейных уравнений, заданная расширенной матрицей\n",
    "\n",
    "$$\\tilde{A}=\\begin{pmatrix}\n",
    "\\left.\\begin{matrix}\n",
    "1 & 2 & 3\\\\ \n",
    "4 & 5 & 6\\\\ \n",
    "7 & 8 & 9\n",
    "\\end{matrix}\\right|\n",
    "\\begin{matrix}\n",
    "a\\\\ \n",
    "b\\\\\n",
    "c\n",
    "\\end{matrix}\n",
    "\\end{pmatrix}.$$\n",
    "\n",
    "Найти соотношение между параметрами $a$, $b$ и $c$, при которых система является несовместной."
   ]
  },
  {
   "cell_type": "markdown",
   "metadata": {},
   "source": [
    "$\\begin{pmatrix}\n",
    "\\left.\\begin{matrix}\n",
    "1 & 2 & 3\\\\ \n",
    "4 & 5 & 6\\\\ \n",
    "7 & 8 & 9\n",
    "\\end{matrix}\\right|\n",
    "\\begin{matrix}\n",
    "a\\\\ \n",
    "b\\\\\n",
    "c\n",
    "\\end{matrix}\n",
    "\\end{pmatrix}\n",
    "$"
   ]
  },
  {
   "cell_type": "markdown",
   "metadata": {},
   "source": [
    "Ну, мы это уже считали - определитель $\\ne0$. Система совместна всегда. И определена тоже всегда"
   ]
  },
  {
   "cell_type": "code",
   "execution_count": 6,
   "metadata": {},
   "outputs": [
    {
     "data": {
      "text/plain": [
       "0.0"
      ]
     },
     "execution_count": 6,
     "metadata": {},
     "output_type": "execute_result"
    }
   ],
   "source": [
    "a = np.array([[1, 2, 3], [4, 5, 6], [7, 8, 9]])\n",
    "np.linalg.det(a)"
   ]
  },
  {
   "cell_type": "markdown",
   "metadata": {},
   "source": [
    "О нет. Как так. Сейчас разберемся. а пока видим, что система либо неопределена, либо несовместна"
   ]
  },
  {
   "cell_type": "markdown",
   "metadata": {},
   "source": [
    "$\\begin{pmatrix}\n",
    "\\left.\\begin{matrix}\n",
    "1 & 2 & 3\\\\ \n",
    "4 & 5 & 6\\\\ \n",
    "7 & 8 & 9\n",
    "\\end{matrix}\\right|\n",
    "\\begin{matrix}\n",
    "a\\\\ \n",
    "b\\\\\n",
    "c\n",
    "\\end{matrix}\n",
    "\\end{pmatrix}\n",
    "\\rightarrow\n",
    "\\begin{pmatrix}\n",
    "\\left.\\begin{matrix}\n",
    "1 & 2 & 3\\\\ \n",
    "3 & 3 & 3\\\\ \n",
    "3 & 3 & 3\n",
    "\\end{matrix}\\right|\n",
    "\\begin{matrix}\n",
    "a\\\\ \n",
    "b - a\\\\\n",
    "c - b\n",
    "\\end{matrix}\n",
    "\\end{pmatrix}\n",
    "\\rightarrow$"
   ]
  },
  {
   "cell_type": "markdown",
   "metadata": {},
   "source": [
    "$\n",
    "\\rightarrow\n",
    "\\begin{pmatrix}\n",
    "\\left.\\begin{matrix}\n",
    "1 & 2 & 3\\\\ \n",
    "0 & -3 & -6\\\\ \n",
    "0 & 0 & 0\n",
    "\\end{matrix}\\right|\n",
    "\\begin{matrix}\n",
    "a\\\\ \n",
    "b - 4a\\\\\n",
    "c - 2b + a\n",
    "\\end{matrix}\n",
    "\\end{pmatrix}\n",
    "\\rightarrow\n",
    "\\begin{pmatrix}\n",
    "\\left.\\begin{matrix}\n",
    "1 & 2 & 3\\\\ \n",
    "0 & 1 & 2\\\\ \n",
    "0 & 0 & 0\n",
    "\\end{matrix}\\right|\n",
    "\\begin{matrix}\n",
    "a\\\\ \n",
    "\\frac{4a - b}{3}\\\\\n",
    "c - 2b + a\n",
    "\\end{matrix}\n",
    "\\end{pmatrix}$"
   ]
  },
  {
   "cell_type": "markdown",
   "metadata": {},
   "source": [
    "__Если c - 2b + a = 0, то система несовместна__\n",
    "\n",
    "В сотальных случаях совместна, но неопределена"
   ]
  },
  {
   "cell_type": "markdown",
   "metadata": {},
   "source": [
    "# Решение систем линейных уравнений"
   ]
  },
  {
   "cell_type": "markdown",
   "metadata": {},
   "source": [
    "__1.__ Решить систему уравнений методом Крамера:\n",
    "\n",
    "   а) $\\begin{cases}\n",
    "x_{1}-2x_{2}=1 \\\\\n",
    "3x_{1}-4x_{2}=7\n",
    "\\end{cases}$\n",
    "    "
   ]
  },
  {
   "cell_type": "markdown",
   "metadata": {},
   "source": [
    "$\n",
    "\\Delta = \n",
    "\\begin{vmatrix}\n",
    "1&-2\\\\\n",
    "3&-4\n",
    "\\end{vmatrix} = -4 + 6 = 2\n",
    "$"
   ]
  },
  {
   "cell_type": "markdown",
   "metadata": {},
   "source": [
    "$\n",
    "\\Delta_1 = \n",
    "\\begin{vmatrix}\n",
    "1&-2\\\\\n",
    "7&-4\n",
    "\\end{vmatrix} = -4 + 14 = 10\n",
    "$"
   ]
  },
  {
   "cell_type": "markdown",
   "metadata": {},
   "source": [
    "$\n",
    "\\Delta_2 = \n",
    "\\begin{vmatrix}\n",
    "1&1\\\\\n",
    "3&7\n",
    "\\end{vmatrix} = 7 - 3 = 4\n",
    "$"
   ]
  },
  {
   "cell_type": "markdown",
   "metadata": {},
   "source": [
    "$x_1 = 5, x_2 = 2$"
   ]
  },
  {
   "cell_type": "code",
   "execution_count": 9,
   "metadata": {},
   "outputs": [
    {
     "data": {
      "text/plain": [
       "array([5., 2.])"
      ]
     },
     "execution_count": 9,
     "metadata": {},
     "output_type": "execute_result"
    }
   ],
   "source": [
    "a = np.array([[1, -2], [3, -4]])\n",
    "b = np.array([1, 7]).T\n",
    "np.linalg.solve(a, b)"
   ]
  },
  {
   "cell_type": "markdown",
   "metadata": {},
   "source": [
    "   б) $\\begin{cases}\n",
    "2x_{1}-x_{2}+5x_{3}=10 \\\\\n",
    "x_{1}+x_{2}-3x_{3}=-2 \\\\\n",
    "2x_{1}+4x_{2}+x_{3}=1\n",
    "\\end{cases}$"
   ]
  },
  {
   "cell_type": "markdown",
   "metadata": {},
   "source": [
    "$\n",
    "\\Delta = \n",
    "\\begin{vmatrix}\n",
    "2&-1&5\\\\\n",
    "1&1&-3\\\\\n",
    "2&4&1\n",
    "\\end{vmatrix} = 2 + 6 + 20 -10+24+1\n",
    "$"
   ]
  },
  {
   "cell_type": "code",
   "execution_count": 10,
   "metadata": {},
   "outputs": [
    {
     "data": {
      "text/plain": [
       "43"
      ]
     },
     "execution_count": 10,
     "metadata": {},
     "output_type": "execute_result"
    }
   ],
   "source": [
    "2 + 6 + 20 -10+24+1"
   ]
  },
  {
   "cell_type": "markdown",
   "metadata": {},
   "source": [
    "$\n",
    "\\Delta_1 = \n",
    "\\begin{vmatrix}\n",
    "10&-1&5\\\\\n",
    "-2&1&-3\\\\\n",
    "1&4&1\n",
    "\\end{vmatrix} = 10 + 3 -40 - 5 + 120 - 2 \n",
    "$"
   ]
  },
  {
   "cell_type": "code",
   "execution_count": 11,
   "metadata": {},
   "outputs": [
    {
     "data": {
      "text/plain": [
       "86"
      ]
     },
     "execution_count": 11,
     "metadata": {},
     "output_type": "execute_result"
    }
   ],
   "source": [
    "10 + 3 -40 - 5 + 120 - 2 "
   ]
  },
  {
   "cell_type": "markdown",
   "metadata": {},
   "source": [
    "$\n",
    "\\Delta_2 = \n",
    "\\begin{vmatrix}\n",
    "2&10&5\\\\\n",
    "1&-2&-3\\\\\n",
    "2&1&1\n",
    "\\end{vmatrix} = -4 - 60 + 5 + 20 + 6 - 10\n",
    "$"
   ]
  },
  {
   "cell_type": "code",
   "execution_count": 12,
   "metadata": {},
   "outputs": [
    {
     "data": {
      "text/plain": [
       "-43"
      ]
     },
     "execution_count": 12,
     "metadata": {},
     "output_type": "execute_result"
    }
   ],
   "source": [
    "-4 - 60 + 5 + 20 + 6 - 10"
   ]
  },
  {
   "cell_type": "markdown",
   "metadata": {},
   "source": [
    "$\n",
    "\\Delta_3 = \n",
    "\\begin{vmatrix}\n",
    "2&-1&10\\\\\n",
    "1&1&-2\\\\\n",
    "2&4&1\n",
    "\\end{vmatrix} = 2 + 4 + 40 - 20 + 16 + 1\n",
    "$"
   ]
  },
  {
   "cell_type": "code",
   "execution_count": 13,
   "metadata": {},
   "outputs": [
    {
     "data": {
      "text/plain": [
       "43"
      ]
     },
     "execution_count": 13,
     "metadata": {},
     "output_type": "execute_result"
    }
   ],
   "source": [
    "2 + 4 + 40 - 20 + 16 + 1"
   ]
  },
  {
   "cell_type": "markdown",
   "metadata": {},
   "source": [
    "__Ответ__"
   ]
  },
  {
   "cell_type": "markdown",
   "metadata": {},
   "source": [
    "$(x_1, x_2, x_3) = (2, -1, 1) $"
   ]
  },
  {
   "cell_type": "markdown",
   "metadata": {},
   "source": [
    "Проверим:"
   ]
  },
  {
   "cell_type": "code",
   "execution_count": 14,
   "metadata": {},
   "outputs": [
    {
     "data": {
      "text/plain": [
       "array([ 2., -1.,  1.])"
      ]
     },
     "execution_count": 14,
     "metadata": {},
     "output_type": "execute_result"
    }
   ],
   "source": [
    "a = np.array([[2, -1, 5], [1, 1, -3], [2, 4, 1]])\n",
    "b = np.array([10, -2, 1])\n",
    "\n",
    "np.linalg.solve(a, b)"
   ]
  },
  {
   "cell_type": "markdown",
   "metadata": {},
   "source": [
    "---\n",
    "__2*.__ Найти $L$-матрицу $LU$-разложения для матрицы коэффициентов:\n",
    "\n",
    "   а)$$\\begin{pmatrix}\n",
    "1 & 2 & 4 \\\\ \n",
    "2 & 9 & 12 \\\\ \n",
    "3 & 26 & 30\n",
    "\\end{pmatrix}$$\n",
    "    "
   ]
  },
  {
   "cell_type": "markdown",
   "metadata": {},
   "source": [
    "$\n",
    "\\begin{pmatrix}\n",
    "\\left.\n",
    "\\underbrace\n",
    "{\\begin{matrix}\n",
    "1&0&0 \\\\\n",
    "0&1&0\\\\\n",
    "0&0&1\n",
    "\\end{matrix}\n",
    "}_L\n",
    "\\right|\n",
    "\\underbrace{\n",
    "\\begin{matrix}\n",
    "1&2&4 \\\\\n",
    "2&9&12\\\\\n",
    "3&26&30\n",
    "\\end{matrix}\n",
    "}_U\n",
    "\\end{pmatrix}\n",
    "\\rightarrow\n",
    "\\begin{pmatrix}\n",
    "\\left.\n",
    "\\underbrace\n",
    "{\\begin{matrix}\n",
    "1&0&0 \\\\\n",
    "2&1&0\\\\\n",
    "3&0&1\n",
    "\\end{matrix}\n",
    "}_L\n",
    "\\right|\n",
    "\\underbrace{\n",
    "\\begin{matrix}\n",
    "1&2&4 \\\\\n",
    "0&5&4\\\\\n",
    "0&20&18\n",
    "\\end{matrix}\n",
    "}_U\n",
    "\\end{pmatrix}\n",
    "\\rightarrow\n",
    "\\begin{pmatrix}\n",
    "\\left.\n",
    "\\underbrace\n",
    "{\\begin{matrix}\n",
    "1&0&0 \\\\\n",
    "2&1&0\\\\\n",
    "3&4&1\n",
    "\\end{matrix}\n",
    "}_L\n",
    "\\right|\n",
    "\\underbrace{\n",
    "\\begin{matrix}\n",
    "1&2&4 \\\\\n",
    "0&5&4\\\\\n",
    "0&0&2\n",
    "\\end{matrix}\n",
    "}_U\n",
    "\\end{pmatrix}\n",
    "$ "
   ]
  },
  {
   "cell_type": "markdown",
   "metadata": {},
   "source": [
    "   б)$$\\begin{pmatrix}\n",
    "1 & 1 & 2 & 4\\\\ \n",
    "2 & 5 & 8 & 9\\\\ \n",
    "3 & 18 & 29 & 18\\\\\n",
    "4 & 22 & 53 & 33\n",
    "\\end{pmatrix}$$\n",
    "    "
   ]
  },
  {
   "cell_type": "markdown",
   "metadata": {},
   "source": [
    "$\n",
    "\\begin{pmatrix}\n",
    "\\left.\n",
    "\\underbrace\n",
    "{\\begin{matrix}\n",
    "1&0&0&0 \\\\\n",
    "0&1&0&0\\\\\n",
    "0&0&1&0\\\\\n",
    "0&0&0&1\n",
    "\\end{matrix}\n",
    "}_L\n",
    "\\right|\n",
    "\\underbrace{\n",
    "\\begin{matrix}\n",
    "1&1&2&4 \\\\\n",
    "2&5&8&9\\\\\n",
    "3&18&29&18\\\\\n",
    "4&22&53&33\n",
    "\\end{matrix}\n",
    "}_U\n",
    "\\end{pmatrix}\n",
    "\\rightarrow\n",
    "\\begin{pmatrix}\n",
    "\\left.\n",
    "\\underbrace\n",
    "{\\begin{matrix}\n",
    "1&0&0&0 \\\\\n",
    "2&1&0&0\\\\\n",
    "3&0&1&0\\\\\n",
    "4&0&0&1\n",
    "\\end{matrix}\n",
    "}_L\n",
    "\\right|\n",
    "\\underbrace{\n",
    "\\begin{matrix}\n",
    "1&1&2&4 \\\\\n",
    "0&3&4&1\\\\\n",
    "0&15&23&6\\\\\n",
    "0&18&45&17\n",
    "\\end{matrix}\n",
    "}_U\n",
    "\\end{pmatrix}\n",
    "\\rightarrow\n",
    "$ "
   ]
  },
  {
   "cell_type": "markdown",
   "metadata": {},
   "source": [
    "$\n",
    "\\rightarrow\n",
    "\\begin{pmatrix}\n",
    "\\left.\n",
    "\\underbrace\n",
    "{\\begin{matrix}\n",
    "1&0&0&0 \\\\\n",
    "2&1&0&0\\\\\n",
    "3&5&1&0\\\\\n",
    "4&6&0&1\n",
    "\\end{matrix}\n",
    "}_L\n",
    "\\right|\n",
    "\\underbrace{\n",
    "\\begin{matrix}\n",
    "1&1&2&4 \\\\\n",
    "0&3&4&1\\\\\n",
    "0&0&3&1\\\\\n",
    "0&0&21&11\n",
    "\\end{matrix}\n",
    "}_U\n",
    "\\end{pmatrix}\n",
    "\\rightarrow\n",
    "\\begin{pmatrix}\n",
    "\\left.\n",
    "\\underbrace\n",
    "{\\begin{matrix}\n",
    "1&0&0&0 \\\\\n",
    "2&1&0&0\\\\\n",
    "3&5&1&0\\\\\n",
    "4&6&7&1\n",
    "\\end{matrix}\n",
    "}_L\n",
    "\\right|\n",
    "\\underbrace{\n",
    "\\begin{matrix}\n",
    "1&1&2&4 \\\\\n",
    "0&3&4&1\\\\\n",
    "0&0&3&1\\\\\n",
    "0&0&0&4\n",
    "\\end{matrix}\n",
    "}_U\n",
    "\\end{pmatrix}\n",
    "$ "
   ]
  },
  {
   "cell_type": "markdown",
   "metadata": {},
   "source": [
    "Давайте проверим, если не возражаете"
   ]
  },
  {
   "cell_type": "code",
   "execution_count": 7,
   "metadata": {},
   "outputs": [],
   "source": [
    "a = np.array([[1, 1, 2, 4], [2, 5, 8, 9], [3, 18, 29, 18], [4, 22, 53, 33]])\n",
    "l= np.array([[1,  0, 0, 0], [2, 1, 0, 0], [3, 5, 1, 0], [4, 6, 7, 1]])\n",
    "u = np.array([[1, 1, 2, 4], [0, 3, 4, 1], [0, 0, 3, 1], [0,0,0,4]])\n"
   ]
  },
  {
   "cell_type": "code",
   "execution_count": 10,
   "metadata": {},
   "outputs": [
    {
     "data": {
      "text/plain": [
       "array([[0, 0, 0, 0],\n",
       "       [0, 0, 0, 0],\n",
       "       [0, 0, 0, 0],\n",
       "       [0, 0, 0, 0]])"
      ]
     },
     "execution_count": 10,
     "metadata": {},
     "output_type": "execute_result"
    }
   ],
   "source": [
    "a - l.dot(u)"
   ]
  },
  {
   "cell_type": "markdown",
   "metadata": {},
   "source": [
    "Кайф"
   ]
  },
  {
   "cell_type": "markdown",
   "metadata": {},
   "source": [
    "__3*.__ Решить систему линейных уравнений методом $LU$-разложения\n",
    "\n",
    "$$\\begin{cases}\n",
    "2x_{1}+x_{2}+3x_{3}=1 \\\\\n",
    "11x_{1}+7x_{2}+5x_{3}=-6 \\\\\n",
    "9x_{1}+8x_{2}+4x_{3}=-5\n",
    "\\end{cases}$$"
   ]
  },
  {
   "cell_type": "markdown",
   "metadata": {},
   "source": [
    "$\n",
    "\\begin{pmatrix}\n",
    "\\left.\n",
    "\\underbrace\n",
    "{\\begin{matrix}\n",
    "1&0&0 \\\\\n",
    "0&1&0\\\\\n",
    "0&0&1\n",
    "\\end{matrix}\n",
    "}_L\n",
    "\\right|\n",
    "\\underbrace{\n",
    "\\begin{matrix}\n",
    "2&1&3\\\\\n",
    "11&7&5\\\\\n",
    "9&8&4\n",
    "\\end{matrix}\n",
    "}_U\n",
    "\\end{pmatrix}\n",
    "\\rightarrow\n",
    "\\begin{pmatrix}\n",
    "\\left.\n",
    "\\underbrace\n",
    "{\\begin{matrix}\n",
    "1&0&0 \\\\\n",
    "\\frac{11}{2}&1&0\\\\\n",
    "\\frac{9}{2}&0&1\n",
    "\\end{matrix}\n",
    "}_L\n",
    "\\right|\n",
    "\\underbrace{\n",
    "\\begin{matrix}\n",
    "2&1&3\\\\\n",
    "0&\\frac{3}{2}&-\\frac{23}{2}\\\\\n",
    "0&\\frac{7}{2}&-\\frac{19}{2}\n",
    "\\end{matrix}\n",
    "}_U\n",
    "\\end{pmatrix}\n",
    "\\rightarrow\n",
    "$ "
   ]
  },
  {
   "cell_type": "markdown",
   "metadata": {},
   "source": [
    "$\n",
    "\\rightarrow\n",
    "\\begin{pmatrix}\n",
    "\\left.\n",
    "\\underbrace\n",
    "{\\begin{matrix}\n",
    "1&0&0 \\\\\n",
    "\\frac{11}{2}&1&0\\\\\n",
    "\\frac{9}{2}&\\frac{7}{3}&1\n",
    "\\end{matrix}\n",
    "}_L\n",
    "\\right|\n",
    "\\underbrace{\n",
    "\\begin{matrix}\n",
    "2&1&3\\\\\n",
    "0&\\frac{3}{2}&-\\frac{23}{2}\\\\\n",
    "0&0&\\frac{52}{3}\n",
    "\\end{matrix}\n",
    "}_U\n",
    "\\end{pmatrix}\n",
    "$ "
   ]
  },
  {
   "cell_type": "code",
   "execution_count": 24,
   "metadata": {},
   "outputs": [
    {
     "data": {
      "text/plain": [
       "17.333333333333332"
      ]
     },
     "execution_count": 24,
     "metadata": {},
     "output_type": "execute_result"
    }
   ],
   "source": [
    "-19./2 + 23./2*7./3"
   ]
  },
  {
   "cell_type": "code",
   "execution_count": 25,
   "metadata": {},
   "outputs": [
    {
     "data": {
      "text/plain": [
       "array([[0.00000000e+00, 0.00000000e+00, 0.00000000e+00],\n",
       "       [0.00000000e+00, 0.00000000e+00, 0.00000000e+00],\n",
       "       [0.00000000e+00, 0.00000000e+00, 3.55271368e-15]])"
      ]
     },
     "execution_count": 25,
     "metadata": {},
     "output_type": "execute_result"
    }
   ],
   "source": [
    "l = np.array( [[1, 0, 0], [11./2, 1, 0], [9./2, 7./3, 1]] )\n",
    "u = np.array( [[2, 1, 3], [0, 3./2, -23./2], [0, 0, 52./3]] )\n",
    "a = np.array( [[2, 1, 3], [11, 7, 5], [9, 8, 4]] )\n",
    "\n",
    "a - l.dot(u)"
   ]
  },
  {
   "cell_type": "markdown",
   "metadata": {},
   "source": [
    "Подскажите, пожалуйста, как делать LU разложение по-питоновски? У scipy linalg есть функция lu, но там еще матрица перестановок"
   ]
  },
  {
   "cell_type": "markdown",
   "metadata": {},
   "source": [
    "$L\\cdot y = (1, -6, -5)^T$"
   ]
  },
  {
   "cell_type": "markdown",
   "metadata": {},
   "source": [
    "$\\begin{pmatrix}\n",
    "1&0&0 \\\\\n",
    "\\frac{11}{2}&1&0\\\\\n",
    "\\frac{9}{2}&\\frac{7}{3}&1\n",
    "\\end{pmatrix}\n",
    "\\cdot\n",
    "\\begin{pmatrix}\n",
    "y_1\\\\\n",
    "y_2\\\\\n",
    "y_3\n",
    "\\end{pmatrix}\n",
    "= \n",
    "\\begin{pmatrix}\n",
    "1\\\\\n",
    "-6\\\\\n",
    "-5\n",
    "\\end{pmatrix}\n",
    "$"
   ]
  },
  {
   "cell_type": "markdown",
   "metadata": {},
   "source": [
    "$\n",
    "\\begin{cases}\n",
    "y_1 = 1\\\\\n",
    "\\frac{11}{2} + y_2 = -6\\\\\n",
    "\\frac{9}{2} + \\frac{7}{3} y_2 + y_3 = -5\n",
    "\\end{cases}\n",
    "$"
   ]
  },
  {
   "cell_type": "markdown",
   "metadata": {},
   "source": [
    "$\n",
    "\\begin{cases}\n",
    "y_1 = 1\\\\\n",
    "y_2 = -\\frac{23}{2}\\\\\n",
    "\\frac{9}{2} - \\frac{7}{3} \\cdot \\frac{23}{2} + y_3 = -5\n",
    "\\end{cases}\n",
    "$"
   ]
  },
  {
   "cell_type": "markdown",
   "metadata": {},
   "source": [
    "$\n",
    "\\begin{cases}\n",
    "y_1 = 1\\\\\n",
    "y_2 = -\\frac{23}{2}\\\\\n",
    "y_3 = \\frac{52}{3}\n",
    "\\end{cases}\n",
    "$"
   ]
  },
  {
   "cell_type": "code",
   "execution_count": 37,
   "metadata": {},
   "outputs": [
    {
     "data": {
      "text/plain": [
       "array([ 0.00000000e+00,  0.00000000e+00, -3.55271368e-15])"
      ]
     },
     "execution_count": 37,
     "metadata": {},
     "output_type": "execute_result"
    }
   ],
   "source": [
    "a = np.array( [[1, 0, 0], [11./2, 1, 0], [9./2, 7./3, 1]] )\n",
    "y = np.array( [1, -23./2, 52./3])\n",
    "b = np.array( [1, -6, -5])\n",
    "a.dot(y) - b"
   ]
  },
  {
   "cell_type": "markdown",
   "metadata": {},
   "source": [
    "$U\\cdot x = (1, -\\frac{23}{2}, \\frac{52}{3})^T$"
   ]
  },
  {
   "cell_type": "markdown",
   "metadata": {},
   "source": [
    "$\n",
    "\\begin{pmatrix}\n",
    "2&1&3\\\\\n",
    "0&\\frac{3}{2}&-\\frac{23}{2}\\\\\n",
    "0&0&\\frac{52}{3}\n",
    "\\end{pmatrix}\n",
    "\\cdot\n",
    "\\begin{pmatrix}\n",
    "x_1\\\\\n",
    "x_2\\\\\n",
    "x_3\n",
    "\\end{pmatrix} =\n",
    "\\begin{pmatrix}\n",
    "1\\\\\n",
    "-\\frac{23}{2}\\\\\n",
    "\\frac{52}{3}\n",
    "\\end{pmatrix}\n",
    "$"
   ]
  },
  {
   "cell_type": "markdown",
   "metadata": {},
   "source": [
    "$\n",
    "\\begin{cases}\n",
    "x_3 = 1\\\\\n",
    "x_2 = 0\\\\\n",
    "x_1 = -1\n",
    "\\end{cases}\n",
    "$"
   ]
  },
  {
   "cell_type": "markdown",
   "metadata": {},
   "source": [
    "Давайте проверим, если не возражаете"
   ]
  },
  {
   "cell_type": "code",
   "execution_count": 38,
   "metadata": {},
   "outputs": [],
   "source": [
    "a = np.array( [[2, 1, 3], [11, 7, 5], [9, 8, 4]] )\n",
    "b = np.array([1, -6, -5]).T\n",
    "x = np.array([-1, 0, 1]).T"
   ]
  },
  {
   "cell_type": "code",
   "execution_count": 39,
   "metadata": {},
   "outputs": [
    {
     "data": {
      "text/plain": [
       "array([0, 0, 0])"
      ]
     },
     "execution_count": 39,
     "metadata": {},
     "output_type": "execute_result"
    }
   ],
   "source": [
    "a.dot(x) - b"
   ]
  },
  {
   "cell_type": "markdown",
   "metadata": {},
   "source": [
    "Все ок"
   ]
  },
  {
   "cell_type": "markdown",
   "metadata": {},
   "source": [
    "__4*.__ Решить систему линейных уравнений методом Холецкого\n",
    "\n",
    "$$\\begin{cases}\n",
    "81x_{1}-45x_{2}+45x_{3}=531 \\\\\n",
    "-45x_{1}+50x_{2}-15x_{3}=-460 \\\\\n",
    "45x_{1}-15x_{2}+38x_{3}=193\n",
    "\\end{cases}$$\n"
   ]
  },
  {
   "cell_type": "markdown",
   "metadata": {},
   "source": [
    "$$l_{11}=\\sqrt{a_{11}}=\\sqrt{81} = 9,$$\n",
    "$$l_{21}=\\frac{a_{21}}{l_{11}}=\\frac{-45}{9} = -5,$$\n",
    "$$l_{31}=\\frac{a_{31}}{l_{11}}=\\frac{45}{9} = 5,$$\n",
    "\n",
    "$$l_{22}=\\sqrt{a_{22}-l_{21}^{2}}=\\sqrt{50 - 25}=5,$$\n",
    "$$l_{32}=\\frac{1}{l_{22}}\\left ( a_{32}-l_{21}l_{31} \\right)=\\frac{1}{5}\\left ( -15 +25 \\right )=2,$$\n",
    "\n",
    "$$l_{33}=\\sqrt{a_{33}-l_{31}^{2}-l_{32}^{2}}=\\sqrt{38 - 25 -4} = 3$$\n"
   ]
  },
  {
   "cell_type": "markdown",
   "metadata": {},
   "source": [
    "$$L = \\begin{pmatrix}\n",
    "9 & 0 & 0 \\\\ \n",
    "-5 & 5 & 0 \\\\ \n",
    "5 & 2 & 3\n",
    "\\end{pmatrix}, \n",
    "\\; \\; \n",
    "L^{T} = \\begin{pmatrix}\n",
    "9 & -5 & 5 \\\\ \n",
    "0 & 5 & 2 \\\\ \n",
    "0 & 0 & 3\n",
    "\\end{pmatrix}.$$"
   ]
  },
  {
   "cell_type": "markdown",
   "metadata": {},
   "source": [
    "Решим систему $Ly=b:$\n",
    "\n",
    "$$\\begin{cases}\n",
    "9y_{1}=531, \\\\\n",
    "-5y_{1}+5y_{2}=-460, \\\\\n",
    "5y_{1}+2y_{2}+3y_{3}=193.\n",
    "\\end{cases}$$"
   ]
  },
  {
   "cell_type": "markdown",
   "metadata": {},
   "source": [
    "$$\\begin{cases}\n",
    "y_{1}=59, \\\\\n",
    "-5\\cdot 59+5y_{2}=-460, \\\\\n",
    "5\\cdot 59+2y_{2}+3y_{3}=193.\n",
    "\\end{cases}$$"
   ]
  },
  {
   "cell_type": "markdown",
   "metadata": {},
   "source": [
    "$$\\begin{cases}\n",
    "y_{1}=59, \\\\\n",
    "y_{2}=-33, \\\\\n",
    "y_{3}=11.\n",
    "\\end{cases}$$"
   ]
  },
  {
   "cell_type": "code",
   "execution_count": 43,
   "metadata": {},
   "outputs": [
    {
     "data": {
      "text/plain": [
       "-3.6666666666666665"
      ]
     },
     "execution_count": 43,
     "metadata": {},
     "output_type": "execute_result"
    }
   ],
   "source": [
    "5*59 - 2*33-193\n",
    "_/(-3)"
   ]
  },
  {
   "cell_type": "markdown",
   "metadata": {},
   "source": [
    "Решим систему $L^T x=y:$\n",
    "\n",
    "$$\\begin{cases}\n",
    "9x_{1} - 5x_{2} + 5x_{3} =59, \\\\\n",
    "5x_{2}+2x_{3}=-33, \\\\\n",
    "3x_{3}=11.\n",
    "\\end{cases}$$"
   ]
  },
  {
   "cell_type": "markdown",
   "metadata": {},
   "source": [
    "$$\\begin{cases}\n",
    "x_{1}=\\frac{1}{3}, \\\\\n",
    "x_{2}=\\frac{121}{15}, \\\\\n",
    "x_{3}=\\frac{11}{3}.\n",
    "\\end{cases}$$"
   ]
  },
  {
   "cell_type": "markdown",
   "metadata": {},
   "source": [
    "### Ответ\n",
    "\n",
    "$(\\frac{1}{3}, -\\frac{121}{3}, \\frac{11}{3})$"
   ]
  },
  {
   "cell_type": "markdown",
   "metadata": {},
   "source": [
    "__5*.__ Написать на Python программу с реализацией одного из изученных алгоритмов решения СЛАУ."
   ]
  },
  {
   "cell_type": "markdown",
   "metadata": {},
   "source": [
    "Попробую сделать реализацию Гаусса - это на мой взгляд, сложнее будет закодить, зато более универсальный"
   ]
  },
  {
   "cell_type": "code",
   "execution_count": 113,
   "metadata": {},
   "outputs": [],
   "source": [
    "A = np.array([[1, 1, -1, -2], [2, 1, -1, 1], [1,  1, -3, 1]])\n",
    "b = np.array([0,-2, 4]).T"
   ]
  },
  {
   "cell_type": "code",
   "execution_count": 83,
   "metadata": {},
   "outputs": [
    {
     "data": {
      "text/plain": [
       "(3, 4)"
      ]
     },
     "execution_count": 83,
     "metadata": {},
     "output_type": "execute_result"
    }
   ],
   "source": [
    "A.shape"
   ]
  },
  {
   "cell_type": "code",
   "execution_count": 226,
   "metadata": {},
   "outputs": [],
   "source": [
    "# Напишем функцию для транспозиции 2х строк матрицы\n",
    "eps = 1e-5\n",
    "def swap_ij(A, i, j):\n",
    "    tmp = []\n",
    "    tmp = A[j].copy()\n",
    "    A[j] = A[i]    \n",
    "    A[i] = tmp\n",
    "    return A\n",
    "\n",
    "def string_transformation(A, i, j, alpha):\n",
    "    A[j] = A[j] + alpha*A[i]\n",
    "    return A\n",
    "\n",
    "# Прямой ход - приведение к диагональному виду\n",
    "def my_Gauss1(A):\n",
    "    n, m = A.shape\n",
    "    for j in range(0, min(n, m-1)): # Последний столбец - свободных членов\n",
    "        print(f'Step {j}:')\n",
    "        # Находим ненулевой элемент в столбце\n",
    "        for i in range(j,n):\n",
    "            #  Если ноль, то пропускаем, идем дальше по столбцу\n",
    "            #  Иначе, swap and break\n",
    "            if (A[i, j] - 0. < eps):\n",
    "                continue\n",
    "            else:\n",
    "                swap_ij(A, i, j)\n",
    "                break\n",
    "        print(A)\n",
    "        # Занулим все элементы ниже\n",
    "        for i in range(j+1, n):\n",
    "            print(f'alpha: {-A[i, j]/A[j, j]}')\n",
    "            string_transformation(A, j, i, -A[i, j]/A[j, j])\n",
    "            print(A)\n",
    "            \n",
    "    return A\n",
    "\n",
    "# Обратный ход\n",
    "# Чет совсем туплю, давайте сделаю пока хотя бы для квадратной матрицы\n",
    "def my_Gauss2(A):\n",
    "    print('Обратный ход')\n",
    "\n",
    "    step = 0\n",
    "    n,m = A.shape\n",
    "    x = np.empty(m-1)\n",
    "    for i in range(n-1, -1, -1):\n",
    "#        step+=1\n",
    "        print(A)\n",
    "        if A[i, i] == 0:\n",
    "            if A[i, m-1] != 0:\n",
    "                print(\"Система несовместна\")\n",
    "                return 0\n",
    "            else:\n",
    "                x[i] = 'C_'+str(i)\n",
    "        else:\n",
    "            x[i] = A[i, m-1]/A[i,i]\n",
    "            for k in range(i-1, -1, -1):\n",
    "                print('ok')\n",
    "                string_transformation(A, i, k, -A[k, i]/A[i,i])\n",
    "                print(A)\n",
    "    return x\n",
    "        \n",
    "def my_Gauss(A, b):\n",
    "    x = []\n",
    "    A_exp = np.append(A, b.reshape((b.shape[0], 1)), axis = 1)\n",
    "    my_Gauss1(A_exp)\n",
    "    x = my_Gauss2(A_exp)\n",
    "    return x \n",
    "            \n",
    "            "
   ]
  },
  {
   "cell_type": "code",
   "execution_count": 227,
   "metadata": {},
   "outputs": [
    {
     "name": "stdout",
     "output_type": "stream",
     "text": [
      "(3, 1)\n"
     ]
    },
    {
     "data": {
      "text/plain": [
       "array([[ 2., -1.,  5., 10.],\n",
       "       [ 1.,  1., -3., -2.],\n",
       "       [ 2.,  4.,  1.,  1.]])"
      ]
     },
     "execution_count": 227,
     "metadata": {},
     "output_type": "execute_result"
    }
   ],
   "source": [
    "A = np.array([[2., -1, 5], [1, 1, -3], [2, 4, 1]])\n",
    "b = np.array([10, -2, 1]).reshape((3, 1))\n",
    "print(b.shape)\n",
    "np.append(A, b, axis = 1)\n"
   ]
  },
  {
   "cell_type": "code",
   "execution_count": 228,
   "metadata": {},
   "outputs": [
    {
     "name": "stdout",
     "output_type": "stream",
     "text": [
      "Step 0:\n",
      "[[ 2. -1.  5. 10.]\n",
      " [ 1.  1. -3. -2.]\n",
      " [ 2.  4.  1.  1.]]\n",
      "alpha: -0.5\n",
      "[[ 2.  -1.   5.  10. ]\n",
      " [ 0.   1.5 -5.5 -7. ]\n",
      " [ 2.   4.   1.   1. ]]\n",
      "alpha: -1.0\n",
      "[[ 2.  -1.   5.  10. ]\n",
      " [ 0.   1.5 -5.5 -7. ]\n",
      " [ 0.   5.  -4.  -9. ]]\n",
      "Step 1:\n",
      "[[ 2.  -1.   5.  10. ]\n",
      " [ 0.   1.5 -5.5 -7. ]\n",
      " [ 0.   5.  -4.  -9. ]]\n",
      "alpha: -3.3333333333333335\n",
      "[[ 2.         -1.          5.         10.        ]\n",
      " [ 0.          1.5        -5.5        -7.        ]\n",
      " [ 0.          0.         14.33333333 14.33333333]]\n",
      "Step 2:\n",
      "[[ 2.         -1.          5.         10.        ]\n",
      " [ 0.          1.5        -5.5        -7.        ]\n",
      " [ 0.          0.         14.33333333 14.33333333]]\n",
      "Обратный ход\n",
      "[[ 2.         -1.          5.         10.        ]\n",
      " [ 0.          1.5        -5.5        -7.        ]\n",
      " [ 0.          0.         14.33333333 14.33333333]]\n",
      "ok\n",
      "[[ 2.         -1.          5.         10.        ]\n",
      " [ 0.          1.5         0.         -1.5       ]\n",
      " [ 0.          0.         14.33333333 14.33333333]]\n",
      "ok\n",
      "[[ 2.         -1.          0.          5.        ]\n",
      " [ 0.          1.5         0.         -1.5       ]\n",
      " [ 0.          0.         14.33333333 14.33333333]]\n",
      "[[ 2.         -1.          0.          5.        ]\n",
      " [ 0.          1.5         0.         -1.5       ]\n",
      " [ 0.          0.         14.33333333 14.33333333]]\n",
      "ok\n",
      "[[ 2.          0.          0.          4.        ]\n",
      " [ 0.          1.5         0.         -1.5       ]\n",
      " [ 0.          0.         14.33333333 14.33333333]]\n",
      "[[ 2.          0.          0.          4.        ]\n",
      " [ 0.          1.5         0.         -1.5       ]\n",
      " [ 0.          0.         14.33333333 14.33333333]]\n"
     ]
    },
    {
     "data": {
      "text/plain": [
       "array([ 2., -1.,  1.])"
      ]
     },
     "execution_count": 228,
     "metadata": {},
     "output_type": "execute_result"
    }
   ],
   "source": [
    "my_Gauss(A, b)"
   ]
  },
  {
   "cell_type": "markdown",
   "metadata": {},
   "source": [
    "Удивительно: похоже, это работает\n",
    "\n",
    "Тут следует упомянуть, что я конкретно схалтурил в следующих вещах: \n",
    "1) Алгоритм работает только для квадратных матриц\n",
    "2) В случае неопределенной системы алгоритм не сработает - он не завершен. Но так как я уже все сроки напрочь просрочил, всему свое время (то есть, задвинем пока). Но если вы будете настаивать на завершении алгоритма, я пойму"
   ]
  }
 ],
 "metadata": {
  "kernelspec": {
   "display_name": "Python 3",
   "language": "python",
   "name": "python3"
  },
  "language_info": {
   "codemirror_mode": {
    "name": "ipython",
    "version": 3
   },
   "file_extension": ".py",
   "mimetype": "text/x-python",
   "name": "python",
   "nbconvert_exporter": "python",
   "pygments_lexer": "ipython3",
   "version": "3.6.1"
  }
 },
 "nbformat": 4,
 "nbformat_minor": 2
}
